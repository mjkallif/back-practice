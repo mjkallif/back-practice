{
 "cells": [
  {
   "cell_type": "code",
   "execution_count": 12,
   "metadata": {},
   "outputs": [],
   "source": [
    "import random\n",
    "\n",
    "def vin():\n",
    "    return random.randint(2200, 2400)/100\n",
    "\n",
    "def vout():\n",
    "    return random.randint(450, 510)/100\n",
    "\n",
    "def temperature():\n",
    "    return random.randint(198, 220)/10\n",
    "\n",
    "def pressure():\n",
    "    return random.randint(745, 766)\n",
    "\n",
    "def humidity():\n",
    "    return random.randint(200, 780)\n",
    "\n",
    "def sound_level():\n",
    "    return random.randint(100, 1000)"
   ]
  },
  {
   "cell_type": "code",
   "execution_count": 13,
   "metadata": {},
   "outputs": [],
   "source": [
    "from json import dumps\n",
    "\n",
    "# vin, vout, temperature, pressure, humidity, sound_level\n",
    "JSON_LIST = [{'vin': vin(), 'vout': vout(), 'temperature': temperature(), 'pressure': pressure(), 'humidity': humidity(), 'sound_level': sound_level()} for i in range(50)]"
   ]
  },
  {
   "cell_type": "code",
   "execution_count": 15,
   "metadata": {},
   "outputs": [],
   "source": [
    "with open(file='results.json', mode='w', encoding='utf8') as f:\n",
    "    f.write(dumps(JSON_LIST, ensure_ascii=False, indent=4))"
   ]
  }
 ],
 "metadata": {
  "kernelspec": {
   "display_name": "Python 3.10.8 64-bit",
   "language": "python",
   "name": "python3"
  },
  "language_info": {
   "codemirror_mode": {
    "name": "ipython",
    "version": 3
   },
   "file_extension": ".py",
   "mimetype": "text/x-python",
   "name": "python",
   "nbconvert_exporter": "python",
   "pygments_lexer": "ipython3",
   "version": "3.10.8"
  },
  "orig_nbformat": 4,
  "vscode": {
   "interpreter": {
    "hash": "cd83cfaddbfe5d43db1506b85102ee93d92393e612d975e1a999d528d9103529"
   }
  }
 },
 "nbformat": 4,
 "nbformat_minor": 2
}
